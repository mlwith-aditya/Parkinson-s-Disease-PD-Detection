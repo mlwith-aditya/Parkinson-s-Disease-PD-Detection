{
 "cells": [
  {
   "cell_type": "code",
   "execution_count": 1,
   "metadata": {},
   "outputs": [],
   "source": [
    "import pandas as pd\n",
    "import numpy as np\n",
    "import matplotlib.pyplot as plt\n",
    "import seaborn as sns \n",
    "import sklearn"
   ]
  },
  {
   "cell_type": "code",
   "execution_count": 22,
   "metadata": {},
   "outputs": [],
   "source": [
    "df = pd.read_excel(\"DATASETS/dataset-2.xls\")"
   ]
  },
  {
   "cell_type": "code",
   "execution_count": 23,
   "metadata": {},
   "outputs": [
    {
     "name": "stdout",
     "output_type": "stream",
     "text": [
      "<class 'pandas.core.frame.DataFrame'>\n",
      "RangeIndex: 131 entries, 0 to 130\n",
      "Data columns (total 65 columns):\n",
      " #   Column                                                Non-Null Count  Dtype \n",
      "---  ------                                                --------------  ----- \n",
      " 0   Participant code                                      130 non-null    object\n",
      " 1   Demographic information                               131 non-null    object\n",
      " 2   Unnamed: 2                                            131 non-null    object\n",
      " 3   Clinical information                                  131 non-null    object\n",
      " 4   Unnamed: 4                                            131 non-null    object\n",
      " 5   Unnamed: 5                                            131 non-null    object\n",
      " 6   Medication                                            131 non-null    object\n",
      " 7   Unnamed: 7                                            131 non-null    object\n",
      " 8   Unnamed: 8                                            131 non-null    object\n",
      " 9   Unnamed: 9                                            131 non-null    object\n",
      " 10  Unnamed: 10                                           131 non-null    object\n",
      " 11  Unnamed: 11                                           131 non-null    object\n",
      " 12  Overview of motor examination                         131 non-null    object\n",
      " 13  Unnamed: 13                                           131 non-null    object\n",
      " 14  UPDRS III motor scale: specific items                 131 non-null    object\n",
      " 15  Unnamed: 15                                           131 non-null    object\n",
      " 16  Unnamed: 16                                           131 non-null    object\n",
      " 17  Unnamed: 17                                           131 non-null    object\n",
      " 18  Unnamed: 18                                           131 non-null    object\n",
      " 19  Unnamed: 19                                           131 non-null    object\n",
      " 20  Unnamed: 20                                           131 non-null    object\n",
      " 21  Unnamed: 21                                           131 non-null    object\n",
      " 22  Unnamed: 22                                           131 non-null    object\n",
      " 23  Unnamed: 23                                           131 non-null    object\n",
      " 24  Unnamed: 24                                           131 non-null    object\n",
      " 25  Unnamed: 25                                           131 non-null    object\n",
      " 26  Unnamed: 26                                           131 non-null    object\n",
      " 27  Unnamed: 27                                           131 non-null    object\n",
      " 28  Unnamed: 28                                           131 non-null    object\n",
      " 29  Unnamed: 29                                           131 non-null    object\n",
      " 30  Unnamed: 30                                           131 non-null    object\n",
      " 31  Unnamed: 31                                           131 non-null    object\n",
      " 32  Unnamed: 32                                           131 non-null    object\n",
      " 33  Unnamed: 33                                           131 non-null    object\n",
      " 34  Unnamed: 34                                           131 non-null    object\n",
      " 35  Unnamed: 35                                           131 non-null    object\n",
      " 36  Unnamed: 36                                           131 non-null    object\n",
      " 37  Unnamed: 37                                           131 non-null    object\n",
      " 38  Unnamed: 38                                           131 non-null    object\n",
      " 39  Unnamed: 39                                           131 non-null    object\n",
      " 40  Unnamed: 40                                           131 non-null    object\n",
      " 41  Speech examination: speaking task of reading passage  131 non-null    object\n",
      " 42  Unnamed: 42                                           131 non-null    object\n",
      " 43  Unnamed: 43                                           131 non-null    object\n",
      " 44  Unnamed: 44                                           131 non-null    object\n",
      " 45  Unnamed: 45                                           131 non-null    object\n",
      " 46  Unnamed: 46                                           131 non-null    object\n",
      " 47  Unnamed: 47                                           131 non-null    object\n",
      " 48  Unnamed: 48                                           131 non-null    object\n",
      " 49  Unnamed: 49                                           131 non-null    object\n",
      " 50  Unnamed: 50                                           131 non-null    object\n",
      " 51  Unnamed: 51                                           131 non-null    object\n",
      " 52  Unnamed: 52                                           131 non-null    object\n",
      " 53  Speech examination: speaking task of monologue        131 non-null    object\n",
      " 54  Unnamed: 54                                           131 non-null    object\n",
      " 55  Unnamed: 55                                           131 non-null    object\n",
      " 56  Unnamed: 56                                           131 non-null    object\n",
      " 57  Unnamed: 57                                           131 non-null    object\n",
      " 58  Unnamed: 58                                           131 non-null    object\n",
      " 59  Unnamed: 59                                           131 non-null    object\n",
      " 60  Unnamed: 60                                           131 non-null    object\n",
      " 61  Unnamed: 61                                           131 non-null    object\n",
      " 62  Unnamed: 62                                           131 non-null    object\n",
      " 63  Unnamed: 63                                           131 non-null    object\n",
      " 64  Unnamed: 64                                           131 non-null    object\n",
      "dtypes: object(65)\n",
      "memory usage: 66.6+ KB\n"
     ]
    }
   ],
   "source": [
    "df.info()"
   ]
  },
  {
   "cell_type": "code",
   "execution_count": 26,
   "metadata": {},
   "outputs": [],
   "source": [
    "df.iloc[0,0]= \"Participant code\""
   ]
  },
  {
   "cell_type": "code",
   "execution_count": 27,
   "metadata": {},
   "outputs": [],
   "source": [
    "df.columns = df.iloc[0]"
   ]
  },
  {
   "cell_type": "code",
   "execution_count": 30,
   "metadata": {},
   "outputs": [],
   "source": [
    "df = df.iloc[1:,:]"
   ]
  },
  {
   "cell_type": "code",
   "execution_count": 34,
   "metadata": {},
   "outputs": [
    {
     "data": {
      "text/plain": [
       "Index(['Participant code', 'Age (years)', 'Gender',\n",
       "       'Positive history of Parkinson disease in family',\n",
       "       'Age of disease onset (years)',\n",
       "       'Duration of disease from first symptoms (years)',\n",
       "       'Antidepressant therapy', 'Antiparkinsonian medication',\n",
       "       'Antipsychotic medication', 'Benzodiazepine medication',\n",
       "       'Levodopa equivalent (mg/day)', 'Clonazepam (mg/day)',\n",
       "       'Hoehn & Yahr scale (-)', 'UPDRS III total (-)', '18. Speech',\n",
       "       '19. Facial Expression', '20. Tremor at Rest - head',\n",
       "       '20. Tremor at Rest - RUE', '20. Tremor at Rest - LUE',\n",
       "       '20. Tremor at Rest - RLE', '20. Tremor at Rest - LLE',\n",
       "       '21. Action or Postural Tremor - RUE',\n",
       "       '21. Action or Postural Tremor - LUE', '22. Rigidity - neck',\n",
       "       '22. Rigidity - RUE', '22. Rigidity - LUE', '22. Rigidity - RLE',\n",
       "       '22. Rigidity - LLE', '23.Finger Taps - RUE', '23.Finger Taps - LUE',\n",
       "       '24. Hand Movements  - RUE', '24. Hand Movements  - LUE',\n",
       "       '25. Rapid Alternating Movements - RUE',\n",
       "       '25. Rapid Alternating Movements -  LUE', '26. Leg Agility - RLE',\n",
       "       '26. Leg Agility - LLE', '27.  Arising from Chair ', '28. Posture',\n",
       "       '29. Gait', '30. Postural Stability',\n",
       "       '31. Body Bradykinesia and Hypokinesia', 'Entropy of speech timing (-)',\n",
       "       'Rate of speech timing (-/min)',\n",
       "       'Acceleration of speech timing                                (-/min2)',\n",
       "       'Duration of pause intervals (ms)', 'Duration of voiced intervals (ms)',\n",
       "       'Gaping                          in-between voiced\\nintervals  (-/min)',\n",
       "       'Duration of unvoiced stops (ms)',\n",
       "       'Decay of unvoiced fricatives              (‰/min)',\n",
       "       'Relative loudness of respiration (dB)',\n",
       "       'Pause intervals per respiration (-)',\n",
       "       'Rate of speech respiration                (-/min)',\n",
       "       'Latency of\\nrespiratory exchange (ms)', 'Entropy of speech timing (-)',\n",
       "       'Rate of speech timing (-/min)',\n",
       "       'Acceleration of speech timing (-/min2)',\n",
       "       'Duration of pause intervals (ms)', 'Duration of voiced intervals (ms)',\n",
       "       'Gaping                         in-between voiced\\nintervals                   (-/min)',\n",
       "       'Duration of unvoiced stops (ms)',\n",
       "       'Decay of unvoiced fricatives              (‰/min)',\n",
       "       'Relative loudness of respiration (dB)',\n",
       "       'Pause intervals per respiration (-)',\n",
       "       'Rate of speech respiration           (- /min)',\n",
       "       'Latency of\\nrespiratory exchange (ms)'],\n",
       "      dtype='object', name=0)"
      ]
     },
     "execution_count": 34,
     "metadata": {},
     "output_type": "execute_result"
    }
   ],
   "source": [
    "df.columns"
   ]
  },
  {
   "cell_type": "code",
   "execution_count": null,
   "metadata": {},
   "outputs": [],
   "source": []
  }
 ],
 "metadata": {
  "kernelspec": {
   "display_name": "Python 3",
   "language": "python",
   "name": "python3"
  },
  "language_info": {
   "codemirror_mode": {
    "name": "ipython",
    "version": 3
   },
   "file_extension": ".py",
   "mimetype": "text/x-python",
   "name": "python",
   "nbconvert_exporter": "python",
   "pygments_lexer": "ipython3",
   "version": "3.8.5"
  }
 },
 "nbformat": 4,
 "nbformat_minor": 4
}
